{
  "nbformat": 4,
  "nbformat_minor": 0,
  "metadata": {
    "colab": {
      "provenance": [],
      "authorship_tag": "ABX9TyM0TWRMumTUFdGlOqey3VOY",
      "include_colab_link": true
    },
    "kernelspec": {
      "name": "python3",
      "display_name": "Python 3"
    },
    "language_info": {
      "name": "python"
    }
  },
  "cells": [
    {
      "cell_type": "markdown",
      "metadata": {
        "id": "view-in-github",
        "colab_type": "text"
      },
      "source": [
        "<a href=\"https://colab.research.google.com/github/ameschini2206/Prueba/blob/main/ProyectoDS_ParteI_Alejandro_Meschini.ipynb\" target=\"_parent\"><img src=\"https://colab.research.google.com/assets/colab-badge.svg\" alt=\"Open In Colab\"/></a>"
      ]
    },
    {
      "cell_type": "code",
      "execution_count": null,
      "metadata": {
        "id": "hJPoo95oi7ss"
      },
      "outputs": [],
      "source": []
    },
    {
      "cell_type": "markdown",
      "source": [
        "# Proyecto Primera Entrea - Visualizaciones en Python  \n",
        "## Primera Entrega  \n",
        "### Archivo: ProyectoDS_ParteI_Alejandro_Meschini.ipynb\n",
        "\n",
        "---\n",
        "\n",
        "\n",
        "## Abstract\n",
        "\n",
        "En este proyecto trabajamos con el dataset autoelevadores_argentina.csv (este dataset fue creado con chatgpt y formó parte del proyecto entregado en el curso de data analytics) que contiene información sobre venta de autoleevadores, indicando fecha, marca, modelo, horas de uso y demas cuestiones relacionado con la venta.\n",
        "\n",
        "El objetivo principal es aplicar técnicas de visualización y análisis exploratorio de datos para identificar patrones relevantes, relaciones entre variables y posibles anomalías o factores que influyen en la venta de autoelevadores en Argentina. A través de gráficos univariados, bivariados y multivariados, se buscará responder una serie de preguntas o hipótesis planteadas sobre el comportamiento de los datos.\n",
        "\n",
        "El análisis incluye una limpieza previa de datos, identificación de valores perdidos, y selección de variables relevantes. Luego se desarrollan visualizaciones que permiten explorar tendencias, distribuciones y correlaciones. A partir de estos resultados visuales y numéricos se busca brindar una interpretación que permita entender mejor el fenómeno analizado.\n",
        "\n",
        "El proyecto se estructura en etapas: definición de preguntas, diagnóstico visual, interpretación, y preparación para análisis posteriores como modelado o segmentación.\n",
        "\n",
        "---\n",
        "\n",
        "## Preguntas de interés / Hipótesis\n",
        "\n",
        "1. ¿Existe relación entre precio y horas de uso?\n",
        "\n",
        "2. ¿Qué factores influyen más en el precio (marca, estado, capacidad, provincia)?\n",
        "\n",
        "3. ¿Se pueden diferenciar grupos de equipos según estado, capacidad y horas?\n",
        "\n",
        "4. ¿Qué variable numérica presenta mayor variabilidad? ¿Hay outliers?\n",
        "\n",
        "5. ¿Cómo se distribuye el precio según la provincia y la marca?\n",
        "---\n",
        "\n",
        "##  Visualizaciones y Análisis\n",
        "\n",
        "### 1. Análisis univariado\n",
        "\n",
        "- Histograma y KDE del precio.\n",
        "\n",
        "- Gráfico de barras de estado y provincia.\n",
        "\n",
        "- Estadísticos descriptivos (media, mediana, std).\n",
        "\n",
        "\n",
        "---\n",
        "\n",
        "### 2. Análisis bivariado\n",
        "\n",
        "- Boxplot de precio vs estado.\n",
        "\n",
        "- Scatterplot de precio vs horas de uso.\n",
        "\n",
        "- Matriz de correlaciones numéricas.\n",
        "\n",
        "\n",
        "---\n",
        "\n",
        "### 3. Análisis multivariado (mínimo 3 variables)\n",
        "\n",
        "- Scatter 3D (precio vs horas, color por estado, tamaño por capacidad).\n",
        "\n",
        "- Heatmap de correlaciones.\n",
        "\n",
        "- Gráfico de violín: precio vs estado con hue por marca.\n",
        "\n",
        "---\n",
        "\n",
        "## Valores perdidos\n",
        "\n",
        "- Cantidad y porcentaje de valores nulos por columna\n",
        "- Decisión: eliminación / imputación / análisis posterior\n"
      ],
      "metadata": {
        "id": "88UlxzaNi8Zd"
      }
    },
    {
      "cell_type": "code",
      "source": [
        "import pandas as pd\n",
        "import numpy as np\n",
        "import matplotlib.pyplot as plt\n",
        "import seaborn as sns"
      ],
      "metadata": {
        "id": "lL5aZ7G8mLVF"
      },
      "execution_count": null,
      "outputs": []
    },
    {
      "cell_type": "code",
      "source": [],
      "metadata": {
        "id": "Otl2ZxWGmQq7"
      },
      "execution_count": null,
      "outputs": []
    }
  ]
}